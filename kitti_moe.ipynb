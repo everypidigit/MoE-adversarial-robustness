{
 "cells": [
  {
   "cell_type": "code",
   "execution_count": null,
   "metadata": {},
   "outputs": [],
   "source": [
    "from torchvision import datasets\n",
    "from torch.utils.data import DataLoader, Subset\n",
    "import numpy as np\n",
    "\n",
    "# Load dataset\n",
    "full_dataset = datasets.ImageFolder(\n",
    "    root=\"path_to_kitti\",\n",
    "    transform=your_transforms\n",
    ")\n",
    "\n",
    "# Select a subset (e.g., first 100 images)\n",
    "indices = np.arange(100)\n",
    "subset = Subset(full_dataset, indices)\n",
    "\n",
    "# Create DataLoader\n",
    "dataloader = DataLoader(subset, batch_size=16, shuffle=True)"
   ]
  }
 ],
 "metadata": {
  "language_info": {
   "name": "python"
  }
 },
 "nbformat": 4,
 "nbformat_minor": 2
}
