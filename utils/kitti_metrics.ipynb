{
 "cells": [
  {
   "cell_type": "code",
   "execution_count": 2,
   "metadata": {},
   "outputs": [
    {
     "name": "stderr",
     "output_type": "stream",
     "text": [
      "/var/folders/b6/486jxbhd03z06w9634qqg4km0000gn/T/ipykernel_11136/4241160761.py:11: FutureWarning: You are using `torch.load` with `weights_only=False` (the current default value), which uses the default pickle module implicitly. It is possible to construct malicious pickle data which will execute arbitrary code during unpickling (See https://github.com/pytorch/pytorch/blob/main/SECURITY.md#untrusted-models for more details). In a future release, the default value for `weights_only` will be flipped to `True`. This limits the functions that could be executed during unpickling. Arbitrary objects will no longer be allowed to be loaded via this mode unless they are explicitly allowlisted by the user via `torch.serialization.add_safe_globals`. We recommend you start setting `weights_only=True` for any use case where you don't have full control of the loaded file. Please open an issue on GitHub for any issues related to this experimental feature.\n",
      "  single_checkpoint = torch.load(\"best_unet_model_3.pth\", map_location=device)\n"
     ]
    },
    {
     "data": {
      "text/plain": [
       "UNetEnsemble(\n",
       "  (models): ModuleList(\n",
       "    (0-2): 3 x UNet(\n",
       "      (encoder1): Sequential(\n",
       "        (0): Conv2d(3, 64, kernel_size=(3, 3), stride=(1, 1), padding=(1, 1))\n",
       "        (1): ReLU(inplace=True)\n",
       "        (2): Conv2d(64, 64, kernel_size=(3, 3), stride=(1, 1), padding=(1, 1))\n",
       "        (3): ReLU(inplace=True)\n",
       "      )\n",
       "      (encoder2): Sequential(\n",
       "        (0): Conv2d(64, 128, kernel_size=(3, 3), stride=(1, 1), padding=(1, 1))\n",
       "        (1): ReLU(inplace=True)\n",
       "        (2): Conv2d(128, 128, kernel_size=(3, 3), stride=(1, 1), padding=(1, 1))\n",
       "        (3): ReLU(inplace=True)\n",
       "      )\n",
       "      (encoder3): Sequential(\n",
       "        (0): Conv2d(128, 256, kernel_size=(3, 3), stride=(1, 1), padding=(1, 1))\n",
       "        (1): ReLU(inplace=True)\n",
       "        (2): Conv2d(256, 256, kernel_size=(3, 3), stride=(1, 1), padding=(1, 1))\n",
       "        (3): ReLU(inplace=True)\n",
       "      )\n",
       "      (pool): MaxPool2d(kernel_size=2, stride=2, padding=0, dilation=1, ceil_mode=False)\n",
       "      (middle): Sequential(\n",
       "        (0): Conv2d(256, 512, kernel_size=(3, 3), stride=(1, 1), padding=(1, 1))\n",
       "        (1): ReLU(inplace=True)\n",
       "        (2): Conv2d(512, 512, kernel_size=(3, 3), stride=(1, 1), padding=(1, 1))\n",
       "        (3): ReLU(inplace=True)\n",
       "      )\n",
       "      (up3): ConvTranspose2d(512, 256, kernel_size=(2, 2), stride=(2, 2))\n",
       "      (decoder3): Sequential(\n",
       "        (0): Conv2d(512, 256, kernel_size=(3, 3), stride=(1, 1), padding=(1, 1))\n",
       "        (1): ReLU(inplace=True)\n",
       "        (2): Conv2d(256, 256, kernel_size=(3, 3), stride=(1, 1), padding=(1, 1))\n",
       "        (3): ReLU(inplace=True)\n",
       "      )\n",
       "      (up2): ConvTranspose2d(256, 128, kernel_size=(2, 2), stride=(2, 2))\n",
       "      (decoder2): Sequential(\n",
       "        (0): Conv2d(256, 128, kernel_size=(3, 3), stride=(1, 1), padding=(1, 1))\n",
       "        (1): ReLU(inplace=True)\n",
       "        (2): Conv2d(128, 128, kernel_size=(3, 3), stride=(1, 1), padding=(1, 1))\n",
       "        (3): ReLU(inplace=True)\n",
       "      )\n",
       "      (up1): ConvTranspose2d(128, 64, kernel_size=(2, 2), stride=(2, 2))\n",
       "      (decoder1): Sequential(\n",
       "        (0): Conv2d(128, 64, kernel_size=(3, 3), stride=(1, 1), padding=(1, 1))\n",
       "        (1): ReLU(inplace=True)\n",
       "        (2): Conv2d(64, 64, kernel_size=(3, 3), stride=(1, 1), padding=(1, 1))\n",
       "        (3): ReLU(inplace=True)\n",
       "      )\n",
       "      (final): Conv2d(64, 3, kernel_size=(1, 1), stride=(1, 1))\n",
       "    )\n",
       "  )\n",
       ")"
      ]
     },
     "execution_count": 2,
     "metadata": {},
     "output_type": "execute_result"
    }
   ],
   "source": [
    "import torch\n",
    "from utils.EnsembleUNetTorch import UNet, UNetEnsemble\n",
    "\n",
    "device = torch.device(\"cuda\" if torch.cuda.is_available() else \"mps\")\n",
    "\n",
    "holdout_path = \"datasets/kitti_holdout/image_2\"\n",
    "fgsm_path = \"datasets/kitti_holdout_FGSM/image_2\"\n",
    "pgd_path = \"datasets/kitti_holdout_PGD/image_2\"\n",
    "\n",
    "single_unet = UNet(in_channels=3, out_channels=3).to(device)\n",
    "single_checkpoint = torch.load(\"best_unet_model_3.pth\", map_location=device)\n",
    "single_unet.load_state_dict(single_checkpoint[\"model_state_dict\"])\n",
    "single_unet.eval()\n",
    "\n",
    "model_paths = [\"unet_model_0.pth\", \"unet_model_1.pth\", \"unet_model_2.pth\"]\n",
    "ensemble_unet = UNetEnsemble(model_paths=model_paths, device=device).to(device)\n",
    "ensemble_unet.eval()"
   ]
  },
  {
   "cell_type": "code",
   "execution_count": 14,
   "metadata": {},
   "outputs": [
    {
     "name": "stdout",
     "output_type": "stream",
     "text": [
      "Image Shape: torch.Size([1, 3, 384, 1280])\n"
     ]
    }
   ],
   "source": [
    "from PIL import Image\n",
    "import torch\n",
    "import torchvision.transforms as transforms\n",
    "import numpy as np\n",
    "\n",
    "image_path = \"datasets/kitti_holdout/image_2/umm_000008.png\"  # Example\n",
    "mask_path = \"datasets/kitti_holdout/gt_image_2/umm_000008.png\"\n",
    "device = torch.device(\"mps\" if torch.backends.mps.is_available() else \"cpu\")\n",
    "\n",
    "# Define a size compatible with UNet (divisible by 32)\n",
    "H, W = 384, 1280  # Choose the closest multiple of 32\n",
    "\n",
    "# Transform with resizing\n",
    "transform = transforms.Compose([\n",
    "    transforms.Resize((H, W)),   # Resize to ensure divisibility\n",
    "    transforms.ToTensor(),\n",
    "])\n",
    "\n",
    "image = Image.open(image_path).convert(\"RGB\")\n",
    "image_tensor = transform(image).unsqueeze(0).to(device)  # Add batch dimension\n",
    "\n",
    "\n",
    "print(f\"Image Shape: {image_tensor.shape}\")  # Debugging"
   ]
  },
  {
   "cell_type": "code",
   "execution_count": 18,
   "metadata": {},
   "outputs": [
    {
     "name": "stdout",
     "output_type": "stream",
     "text": [
      "Original Unique Values in Mask: [  0  76 105]\n"
     ]
    }
   ],
   "source": [
    "mask = Image.open(mask_path).convert(\"L\")  # Load grayscale\n",
    "mask_np = np.array(mask)  # Convert to NumPy\n",
    "print(\"Original Unique Values in Mask:\", np.unique(mask_np))"
   ]
  },
  {
   "cell_type": "code",
   "execution_count": 21,
   "metadata": {},
   "outputs": [
    {
     "name": "stdout",
     "output_type": "stream",
     "text": [
      "Fixed Mask Unique Values: tensor([0, 1, 2], device='mps:0')\n"
     ]
    }
   ],
   "source": [
    "import cv2\n",
    "\n",
    "# Load mask as grayscale and convert to NumPy\n",
    "mask = Image.open(mask_path).convert(\"L\")\n",
    "mask_np = np.array(mask)  # Convert to NumPy array\n",
    "H, W = 384, 1280  # Same as the image\n",
    "\n",
    "# Resize using OpenCV (avoids PyTorch interpolation issues)\n",
    "mask_resized = cv2.resize(mask_np, (W, H), interpolation=cv2.INTER_NEAREST)\n",
    "\n",
    "# Convert back to tensor\n",
    "mask = torch.tensor(mask_resized, dtype=torch.long, device=device)\n",
    "\n",
    "# Fix class labels\n",
    "mask[mask == 76] = 1\n",
    "mask[mask == 105] = 2\n",
    "\n",
    "print(f\"Fixed Mask Unique Values: {torch.unique(mask)}\")"
   ]
  },
  {
   "cell_type": "code",
   "execution_count": 22,
   "metadata": {},
   "outputs": [
    {
     "name": "stdout",
     "output_type": "stream",
     "text": [
      "Single UNet Pred Mask Unique Values: tensor([0, 2])\n",
      "Ensemble UNet Pred Mask Unique Values: tensor([0, 2])\n"
     ]
    }
   ],
   "source": [
    "# Ensure models are on the correct device\n",
    "single_unet.to(device)\n",
    "ensemble_unet.to(device)\n",
    "\n",
    "# Ensure image tensor is also on the same device\n",
    "image_tensor = image_tensor.to(device)\n",
    "\n",
    "\n",
    "with torch.no_grad():\n",
    "    single_pred = single_unet(image_tensor)  # Output: [1, num_classes, H, W]\n",
    "    ensemble_pred = ensemble_unet(image_tensor)  # Output: [1, num_classes, H, W]\n",
    "\n",
    "# Convert to Class Labels (Argmax over the channel dimension)\n",
    "single_pred_mask = torch.argmax(single_pred, dim=1).squeeze().cpu()\n",
    "ensemble_pred_mask = torch.argmax(ensemble_pred, dim=1).squeeze().cpu()\n",
    "\n",
    "print(f\"Single UNet Pred Mask Unique Values: {torch.unique(single_pred_mask)}\")\n",
    "print(f\"Ensemble UNet Pred Mask Unique Values: {torch.unique(ensemble_pred_mask)}\")"
   ]
  }
 ],
 "metadata": {
  "kernelspec": {
   "display_name": "lldl",
   "language": "python",
   "name": "python3"
  },
  "language_info": {
   "codemirror_mode": {
    "name": "ipython",
    "version": 3
   },
   "file_extension": ".py",
   "mimetype": "text/x-python",
   "name": "python",
   "nbconvert_exporter": "python",
   "pygments_lexer": "ipython3",
   "version": "3.10.14"
  }
 },
 "nbformat": 4,
 "nbformat_minor": 2
}
