{
 "cells": [
  {
   "cell_type": "code",
   "execution_count": 1,
   "id": "f47fea1a-0845-4a91-ac32-1bd579660b12",
   "metadata": {},
   "outputs": [
    {
     "name": "stdout",
     "output_type": "stream",
     "text": [
      "C:\\Users\\fashi\\anaconda3\\envs\\cityscapes\\python.exe\n"
     ]
    }
   ],
   "source": [
    "import sys\n",
    "print(sys.executable)"
   ]
  },
  {
   "cell_type": "code",
   "execution_count": 2,
   "id": "e91f5501-2cdf-4e60-8f19-92cfcf81a380",
   "metadata": {},
   "outputs": [
    {
     "name": "stdout",
     "output_type": "stream",
     "text": [
      "2.5.1\n"
     ]
    }
   ],
   "source": [
    "import torch\n",
    "print(torch.__version__)"
   ]
  },
  {
   "cell_type": "code",
   "execution_count": null,
   "id": "0f576d8d-7d47-4193-812b-5797c36214e8",
   "metadata": {},
   "outputs": [
    {
     "name": "stdout",
     "output_type": "stream",
     "text": [
      "Holdout data created successfully.\n"
     ]
    }
   ],
   "source": [
    "import os\n",
    "import random\n",
    "import shutil\n",
    "\n",
    "# Define paths\n",
    "image_dir = 'data'  # Folder containing all images\n",
    "gt_dir = 'data2'     # Folder containing all ground truth files\n",
    "holdout_dir = 'holdout_data'\n",
    "\n",
    "# Create holdout directory if it doesn't exist\n",
    "os.makedirs(holdout_dir, exist_ok=True)\n",
    "\n",
    "# Get list of all images\n",
    "all_images = [os.path.join(image_dir, file) for file in os.listdir(image_dir) if file.endswith('.png')]\n",
    "\n",
    "# Randomly select 10% of the images (100 images out of 1000)\n",
    "random.seed(42)  # For reproducibility\n",
    "selected_images = random.sample(all_images, 100)\n",
    "\n",
    "# Copy selected images and corresponding ground truth files to holdout directory\n",
    "for img_path in selected_images:\n",
    "    # Get the base filename (without _leftImg8bit.png)\n",
    "    base_filename = os.path.basename(img_path).replace('_leftImg8bit.png', '')\n",
    "\n",
    "    # Copy image\n",
    "    shutil.copy(img_path, os.path.join(holdout_dir, os.path.basename(img_path)))\n",
    "\n",
    "    # Copy corresponding ground truth files\n",
    "    for suffix in ['_gtFine_color.png', '_gtFine_instanceIds.png', '_gtFine_labelIds.png', '_gtFine_polygons.json']:\n",
    "        gt_file = os.path.join(gt_dir, base_filename + suffix)\n",
    "        if os.path.exists(gt_file):\n",
    "            shutil.copy(gt_file, os.path.join(holdout_dir, base_filename + suffix))\n",
    "\n",
    "print(\"Holdout data created successfully.\")"
   ]
  },
  {
   "cell_type": "code",
   "execution_count": null,
   "id": "adfe9094-f784-45bb-af92-b737b59903ab",
   "metadata": {},
   "outputs": [
    {
     "name": "stdout",
     "output_type": "stream",
     "text": [
      "Adversarial attacks applied successfully.\n"
     ]
    }
   ],
   "source": [
    "import torch\n",
    "import torchvision.transforms as transforms\n",
    "from torchvision.utils import save_image\n",
    "from PIL import Image\n",
    "import os\n",
    "\n",
    "# Define FGSM attack\n",
    "def fgsm_attack(image, epsilon, data_grad):\n",
    "    sign_data_grad = data_grad.sign()\n",
    "    perturbed_image = image + epsilon * sign_data_grad\n",
    "    perturbed_image = torch.clamp(perturbed_image, 0, 1)\n",
    "    return perturbed_image\n",
    "\n",
    "# Define PGD attack\n",
    "def pgd_attack(image, epsilon, alpha, num_iter, data_grad):\n",
    "    perturbed_image = image.clone()\n",
    "    for _ in range(num_iter):\n",
    "        perturbed_image = perturbed_image + alpha * data_grad.sign()\n",
    "        eta = torch.clamp(perturbed_image - image, -epsilon, epsilon)\n",
    "        perturbed_image = torch.clamp(image + eta, 0, 1)\n",
    "    return perturbed_image\n",
    "\n",
    "# Load an image\n",
    "def load_image(image_path):\n",
    "    image = Image.open(image_path).convert('RGB')\n",
    "    transform = transforms.Compose([\n",
    "        transforms.ToTensor(),\n",
    "    ])\n",
    "    image = transform(image).unsqueeze(0)\n",
    "    return image\n",
    "\n",
    "# Save perturbed image\n",
    "def save_perturbed_image(perturbed_image, output_path):\n",
    "    save_image(perturbed_image, output_path)\n",
    "\n",
    "# Apply attacks to holdout data\n",
    "holdout_dir = 'holdout_data'  # Folder containing selected images and ground truth files\n",
    "fgsm_dir = 'fgsm_contaminated'  # Folder to save FGSM-perturbed images\n",
    "pgd_dir = 'pgd_contaminated'  # Folder to save PGD-perturbed images\n",
    "\n",
    "os.makedirs(fgsm_dir, exist_ok=True)\n",
    "os.makedirs(pgd_dir, exist_ok=True)\n",
    "\n",
    "epsilon = 0.03  # Perturbation strength\n",
    "alpha = 0.01  # Step size for PGD\n",
    "num_iter = 10  # Number of iterations for PGD\n",
    "\n",
    "# Process each image in the holdout directory\n",
    "for img_file in os.listdir(holdout_dir):\n",
    "    if img_file.endswith('_leftImg8bit.png'):  # Only process image files\n",
    "        img_path = os.path.join(holdout_dir, img_file)\n",
    "        image = load_image(img_path)\n",
    "        image.requires_grad = True\n",
    "\n",
    "        # Dummy loss (for demonstration purposes)\n",
    "        output = image.mean()\n",
    "        loss = -output  # Negative loss to maximize the perturbation\n",
    "        loss.backward()\n",
    "        data_grad = image.grad.data\n",
    "\n",
    "        # Apply FGSM\n",
    "        perturbed_image_fgsm = fgsm_attack(image, epsilon, data_grad)\n",
    "        save_perturbed_image(perturbed_image_fgsm, os.path.join(fgsm_dir, img_file))\n",
    "\n",
    "        # Apply PGD\n",
    "        perturbed_image_pgd = pgd_attack(image, epsilon, alpha, num_iter, data_grad)\n",
    "        save_perturbed_image(perturbed_image_pgd, os.path.join(pgd_dir, img_file))\n",
    "\n",
    "print(\"Adversarial attacks applied successfully.\")"
   ]
  }
 ],
 "metadata": {
  "kernelspec": {
   "display_name": "Python (cityscapes)",
   "language": "python",
   "name": "cityscapes"
  },
  "language_info": {
   "codemirror_mode": {
    "name": "ipython",
    "version": 3
   },
   "file_extension": ".py",
   "mimetype": "text/x-python",
   "name": "python",
   "nbconvert_exporter": "python",
   "pygments_lexer": "ipython3",
   "version": "3.9.21"
  }
 },
 "nbformat": 4,
 "nbformat_minor": 5
}
