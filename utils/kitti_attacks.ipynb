{
 "cells": [
  {
   "cell_type": "code",
   "execution_count": 1,
   "metadata": {},
   "outputs": [],
   "source": [
    "import torch\n",
    "import os\n",
    "import torchvision.transforms as transforms\n",
    "from torchvision.utils import save_image\n",
    "from PIL import Image\n",
    "from tqdm import tqdm\n",
    "\n",
    "# FGSM Attack: Adding noise directly\n",
    "def fgsm_attack(image, epsilon):\n",
    "    noise = epsilon * torch.sign(torch.randn_like(image))  # Random sign perturbation\n",
    "    adv_image = image + noise\n",
    "    return torch.clamp(adv_image, 0, 1)  # Keep pixel values valid\n",
    "\n",
    "# PGD Attack: Iterative noise\n",
    "def pgd_attack(image, epsilon, alpha, iters):\n",
    "    adv_image = image.clone().detach()\n",
    "    for _ in range(iters):\n",
    "        noise = alpha * torch.sign(torch.randn_like(adv_image))\n",
    "        adv_image = adv_image + noise\n",
    "        adv_image = torch.clamp(adv_image, image - epsilon, image + epsilon)  # Projection step\n",
    "        adv_image = torch.clamp(adv_image, 0, 1)\n",
    "    return adv_image"
   ]
  },
  {
   "cell_type": "code",
   "execution_count": 3,
   "metadata": {},
   "outputs": [
    {
     "name": "stderr",
     "output_type": "stream",
     "text": [
      "Generating Adversarial Images: 100%|██████████| 34/34 [00:28<00:00,  1.20it/s]"
     ]
    },
    {
     "name": "stdout",
     "output_type": "stream",
     "text": [
      "✅ FGSM & PGD adversarial datasets created successfully!\n"
     ]
    },
    {
     "name": "stderr",
     "output_type": "stream",
     "text": [
      "\n"
     ]
    }
   ],
   "source": [
    "# Paths\n",
    "holdout_path = \"datasets/kitti_holdout/image_2\"\n",
    "fgsm_output_path = \"datasets/kitti_holdout_FGSM/image_2\"\n",
    "pgd_output_path = \"datasets/kitti_holdout_PGD/image_2\"\n",
    "\n",
    "# Ensure output directories exist\n",
    "os.makedirs(fgsm_output_path, exist_ok=True)\n",
    "os.makedirs(pgd_output_path, exist_ok=True)\n",
    "\n",
    "# Transform to tensor\n",
    "transform = transforms.Compose([transforms.ToTensor()])\n",
    "\n",
    "# Parameters\n",
    "epsilon = 0.2  # Perturbation strength\n",
    "alpha = 0.05  # PGD step size\n",
    "pgd_iters = 40  # PGD iterations\n",
    "\n",
    "# Process all images in the holdout dataset\n",
    "for filename in tqdm(os.listdir(holdout_path), desc=\"Generating Adversarial Images\"):\n",
    "    if filename.endswith(\".png\") or filename.endswith(\".jpg\"):\n",
    "        image_path = os.path.join(holdout_path, filename)\n",
    "\n",
    "        # Load image\n",
    "        image = Image.open(image_path).convert(\"RGB\")\n",
    "        image_tensor = transform(image).unsqueeze(0)  # Add batch dimension\n",
    "\n",
    "        # Apply FGSM\n",
    "        adv_fgsm = fgsm_attack(image_tensor, epsilon)\n",
    "        save_image(adv_fgsm, os.path.join(fgsm_output_path, filename))\n",
    "\n",
    "        # Apply PGD\n",
    "        adv_pgd = pgd_attack(image_tensor, epsilon, alpha, pgd_iters)\n",
    "        save_image(adv_pgd, os.path.join(pgd_output_path, filename))\n",
    "\n",
    "print(\"✅ FGSM & PGD adversarial datasets created successfully!\")"
   ]
  }
 ],
 "metadata": {
  "kernelspec": {
   "display_name": "lldl",
   "language": "python",
   "name": "python3"
  },
  "language_info": {
   "codemirror_mode": {
    "name": "ipython",
    "version": 3
   },
   "file_extension": ".py",
   "mimetype": "text/x-python",
   "name": "python",
   "nbconvert_exporter": "python",
   "pygments_lexer": "ipython3",
   "version": "3.10.14"
  }
 },
 "nbformat": 4,
 "nbformat_minor": 2
}
